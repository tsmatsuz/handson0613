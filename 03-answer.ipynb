{
 "cells": [
  {
   "cell_type": "markdown",
   "metadata": {
    "slideshow": {
     "slide_type": "slide"
    }
   },
   "source": [
    "# Step02 検索実行 (Question-Answering) - 回答例\n",
    "\n",
    "ここでは、ユーザーからの質問に対し、Step01 で作成したテキストとベクトル (Embedding) のデータ (```embeddings_data.csv```) の中から答えを探して回答する仕組みを構築していきましょう。"
   ]
  },
  {
   "cell_type": "markdown",
   "metadata": {},
   "source": [
    "準備として、OpenAI Python Library を Azure OpenAI Service に接続するための設定をおこないます。"
   ]
  },
  {
   "cell_type": "code",
   "execution_count": null,
   "metadata": {
    "slideshow": {
     "slide_type": "slide"
    }
   },
   "outputs": [],
   "source": [
    "import os\n",
    "import openai\n",
    "\n",
    "openai.api_key = os.environ[\"OPENAI_API_KEY\"]\n",
    "openai.api_base =  os.environ[\"OPENAI_API_BASE\"]\n",
    "openai.api_type = os.environ[\"OPENAI_API_TYPE\"]\n",
    "openai.api_version = os.environ[\"OPENAI_API_VERSION\"]\n",
    "\n",
    "embedding_model = \"text-similarity-curie-001-deploy\"\n",
    "qa_model = \"text-davinci-003-deploy\""
   ]
  },
  {
   "cell_type": "markdown",
   "metadata": {
    "slideshow": {
     "slide_type": "slide"
    }
   },
   "source": [
    "Knowledge Base (```embeddings_data.csv```) から、全ドキュメントの Embedding 情報を読み込みます。<br>\n",
    "列として、```text``` (本文), ```n_tokens``` (トークン数), ```embeddings``` (ベクトルのリスト) が含まれていることを確認してください。"
   ]
  },
  {
   "cell_type": "code",
   "execution_count": null,
   "metadata": {
    "slideshow": {
     "slide_type": "slide"
    }
   },
   "outputs": [],
   "source": [
    "import pandas as pd\n",
    "import numpy as np\n",
    "\n",
    "df=pd.read_csv(\"embeddings_data.csv\", index_col=0)\n",
    "df[\"embeddings\"] = df[\"embeddings\"].apply(eval).apply(np.array)\n",
    "\n",
    "df.head()"
   ]
  },
  {
   "cell_type": "markdown",
   "metadata": {
    "slideshow": {
     "slide_type": "slide"
    }
   },
   "source": [
    "質問に渡すコンテキストとして、質問と近いテキストを 1800 トークンを超えない範囲で取得してください。\n",
    "\n",
    "ヒント\n",
    "- 質問を Embedding します (Embedding 方法は、Step01 を参考にしてください)\n",
    "- ベクトルどうしの距離を測る関数はさまざま存在します。<br>\n",
    "例えば、```openai.embeddings_utils.distances_from_embeddings``` も使用できます。(この関数の詳細は [こちら](https://github.com/openai/openai-python/blob/main/openai/embeddings_utils.py) を参照してください。)\n",
    "- 上述の通り、トークン数の情報は ```n_tokens``` 列に含まれています。"
   ]
  },
  {
   "cell_type": "code",
   "execution_count": null,
   "metadata": {
    "slideshow": {
     "slide_type": "slide"
    }
   },
   "outputs": [],
   "source": [
    "from openai.embeddings_utils import distances_from_embeddings\n",
    "\n",
    "def create_context(\n",
    "    question, df, max_len=1800,\n",
    "):\n",
    "    # Get the embeddings for the question\n",
    "    q_embeddings = openai.Embedding.create(input=question, engine=embedding_model)[\"data\"][0][\"embedding\"]\n",
    "\n",
    "    # Get the distances from the embeddings\n",
    "    df[\"distances\"] = distances_from_embeddings(q_embeddings, df[\"embeddings\"].values, distance_metric=\"cosine\")\n",
    "\n",
    "    returns = []\n",
    "    cur_len = 0\n",
    "\n",
    "    # Sort by distance and add the text to the context until the context is too long\n",
    "    for i, row in df.sort_values(\"distances\", ascending=True).iterrows():\n",
    "        \n",
    "        # Add the length of the text to the current length\n",
    "        cur_len += row[\"n_tokens\"] + 4\n",
    "        \n",
    "        # If the context is too long, break\n",
    "        if cur_len > max_len:\n",
    "            break\n",
    "        \n",
    "        # Else add it to the text that is being returned\n",
    "        returns.append(row[\"text\"])\n",
    "\n",
    "    # Return the context\n",
    "    return \"\\n\\n###\\n\\n\".join(returns)"
   ]
  },
  {
   "cell_type": "code",
   "execution_count": null,
   "metadata": {},
   "outputs": [],
   "source": [
    "# 動作確認\n",
    "create_context(\n",
    "    \"木曽川に建設された発電所のうち、1924年(大正13年)に完成したダム式の発電所は?\",\n",
    "    df=df,\n",
    ")"
   ]
  },
  {
   "cell_type": "markdown",
   "metadata": {
    "slideshow": {
     "slide_type": "slide"
    }
   },
   "source": [
    "つぎに、上記で抽出した (1800 token を超えない) コンテキストを使って、下記のプロンプトを渡して completion を実行します。<br>\n",
    "返ってきた答えが、最終的な回答です。\n",
    "\n",
    "----------\n",
    "\n",
    "```\n",
    "以下のテキストを使って下記の質問に答えてください。もし答えがない場合には、「私は知らない」と答えてください。\n",
    "\n",
    "コンテキスト: {context}\n",
    "\n",
    "---\n",
    "\n",
    "質問: {question}\n",
    "答え:\n",
    "```"
   ]
  },
  {
   "cell_type": "code",
   "execution_count": null,
   "metadata": {
    "slideshow": {
     "slide_type": "slide"
    }
   },
   "outputs": [],
   "source": [
    "def answer_question(\n",
    "    df,\n",
    "    model,\n",
    "    question,\n",
    "    max_len=1800,\n",
    "    max_tokens=150,\n",
    "    stop_sequence=None\n",
    "):\n",
    "    context = create_context(\n",
    "        question,\n",
    "        df,\n",
    "        max_len=max_len,\n",
    "    )\n",
    "    # Create a completions using the question and context\n",
    "    response = openai.Completion.create(\n",
    "        prompt=f\"以下のテキストを使って下記の質問に答えてください。もし答えがない場合には、「私は知らない」と答えてください。\\n\\nコンテキスト: {context}\\n\\n---\\n\\n質問: {question}\\n答え:\",\n",
    "        temperature=0,\n",
    "        max_tokens=max_tokens,\n",
    "        top_p=1,\n",
    "        frequency_penalty=0,\n",
    "        presence_penalty=0,\n",
    "        stop=stop_sequence,\n",
    "        engine=qa_model,\n",
    "    )\n",
    "    return response[\"choices\"][0][\"text\"].strip()"
   ]
  },
  {
   "cell_type": "markdown",
   "metadata": {
    "slideshow": {
     "slide_type": "slide"
    }
   },
   "source": [
    "下記の質問で試してみてください。<br>\n",
    "これらの質問は、標準の GPT-3.5 (```text-davinci-003```) では答えられない内容です。\n",
    "\n",
    "1. 「木曽川に建設された発電所のうち、1924年(大正13年)に完成したダム式の発電所は?」<br>\n",
    "  答え : 大井発電所\n",
    "2. 「1948年に、占領軍総司令部民間情報局が静岡に設立したのは?」<br>\n",
    "  答え : アメリカ文化センター\n",
    "3. 「今日は何曜日?」<br>\n",
    "  答え : 私は知らない"
   ]
  },
  {
   "cell_type": "code",
   "execution_count": null,
   "metadata": {
    "slideshow": {
     "slide_type": "slide"
    }
   },
   "outputs": [],
   "source": [
    "answer_question(df, question=\"木曽川に建設された発電所のうち、1924年(大正13年)に完成したダム式の発電所は?\", model=qa_model)"
   ]
  },
  {
   "cell_type": "code",
   "execution_count": null,
   "metadata": {
    "slideshow": {
     "slide_type": "slide"
    }
   },
   "outputs": [],
   "source": [
    "answer_question(df, question=\"1948年に、占領軍総司令部民間情報局が静岡に設立したのは?\", model=qa_model)"
   ]
  },
  {
   "cell_type": "code",
   "execution_count": null,
   "metadata": {
    "slideshow": {
     "slide_type": "slide"
    }
   },
   "outputs": [],
   "source": [
    "answer_question(df, question=\"今日は何曜日\", model=qa_model)"
   ]
  }
 ],
 "metadata": {
  "celltoolbar": "Slideshow",
  "kernelspec": {
   "display_name": "Python 3 (ipykernel)",
   "language": "python",
   "name": "python3"
  },
  "language_info": {
   "codemirror_mode": {
    "name": "ipython",
    "version": 3
   },
   "file_extension": ".py",
   "mimetype": "text/x-python",
   "name": "python",
   "nbconvert_exporter": "python",
   "pygments_lexer": "ipython3",
   "version": "3.8.10"
  },
  "vscode": {
   "interpreter": {
    "hash": "05f34a34d73b71652304030c1097be3a5720ea2447153dd6542d145a26b73181"
   }
  }
 },
 "nbformat": 4,
 "nbformat_minor": 2
}
