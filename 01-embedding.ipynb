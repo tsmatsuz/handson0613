{
 "cells": [
  {
   "cell_type": "markdown",
   "metadata": {
    "slideshow": {
     "slide_type": "slide"
    }
   },
   "source": [
    "# Step 1 : テキストの Embedding とデータベースへの保存\n",
    "\n",
    "> 注意 : この処理は時間がかかるため、**セルの実行は不要です**。(処理内容の確認のみおこなってください。)<br>\n",
    "> 実行結果は、```embeddings_data.csv``` に保存されています。\n",
    "\n",
    "Azure OpenAI の Embedding を使用して、テキストをベクトル化 (Embedding) して、データベースに保存します。\n",
    "\n",
    "- 今回は、Hugging Face に登録されている JaQuAD (日本語版の Wikipedia のデータセット) を使用します。先頭 1000 件のデータを使用します。\n",
    "- 今回は、データベースの代わりに、CSV ファイルに保存します。\n",
    "- 今回は、OpenAI の Embedding として ```text-similarity-curie-001``` (4096 次元のベクトルを生成) を使用します。<br>\n",
    "なお、本番時は **text-embedding-ada-002 がおすすめです**。性能も高く、金額も安く、かつ 1024 次元のベクトルであるため Azure Cognitive Search のベクトル検索などで扱うことが可能です。"
   ]
  },
  {
   "cell_type": "markdown",
   "metadata": {},
   "source": [
    "Hugging Face に登録されている日本の Wikipedia データセット (JaQuAD) から、先頭の 1000 件のデータを取得します。"
   ]
  },
  {
   "cell_type": "code",
   "execution_count": 1,
   "metadata": {
    "slideshow": {
     "slide_type": "slide"
    }
   },
   "outputs": [
    {
     "name": "stderr",
     "output_type": "stream",
     "text": [
      "/usr/lib/python3/dist-packages/requests/__init__.py:89: RequestsDependencyWarning: urllib3 (1.26.15) or chardet (3.0.4) doesn't match a supported version!\n",
      "  warnings.warn(\"urllib3 ({}) or chardet ({}) doesn't match a supported \"\n",
      "Found cached dataset ja_qu_ad (/home/tsmatsuz/.cache/huggingface/datasets/SkelterLabsInc___ja_qu_ad/default/0.1.0/5847b2e2ab5e02de284395bb15f87f13eae8f6f6ff1f01e4ee9c5c0dcf8ef8eb)\n"
     ]
    },
    {
     "data": {
      "application/vnd.jupyter.widget-view+json": {
       "model_id": "70229c70d80f4139a9c462e72a624471",
       "version_major": 2,
       "version_minor": 0
      },
      "text/plain": [
       "  0%|          | 0/2 [00:00<?, ?it/s]"
      ]
     },
     "metadata": {},
     "output_type": "display_data"
    },
    {
     "data": {
      "text/html": [
       "<div>\n",
       "<style scoped>\n",
       "    .dataframe tbody tr th:only-of-type {\n",
       "        vertical-align: middle;\n",
       "    }\n",
       "\n",
       "    .dataframe tbody tr th {\n",
       "        vertical-align: top;\n",
       "    }\n",
       "\n",
       "    .dataframe thead th {\n",
       "        text-align: right;\n",
       "    }\n",
       "</style>\n",
       "<table border=\"1\" class=\"dataframe\">\n",
       "  <thead>\n",
       "    <tr style=\"text-align: right;\">\n",
       "      <th></th>\n",
       "      <th>text</th>\n",
       "    </tr>\n",
       "  </thead>\n",
       "  <tbody>\n",
       "    <tr>\n",
       "      <th>0</th>\n",
       "      <td>手塚治虫(てづかおさむ、本名:手塚治(読み同じ)、1928年(昭和3年)11月3日-1989...</td>\n",
       "    </tr>\n",
       "    <tr>\n",
       "      <th>2</th>\n",
       "      <td>大阪帝国大学附属医学専門部在学中の1946年1月1日に4コマ漫画『マアチャンの日記帳』(『少...</td>\n",
       "    </tr>\n",
       "    <tr>\n",
       "      <th>6</th>\n",
       "      <td>1941年、大阪府立北野中学校(現在の大阪府立北野高等学校)に入学した。\\n時節柄軍事色が強...</td>\n",
       "    </tr>\n",
       "    <tr>\n",
       "      <th>9</th>\n",
       "      <td>終戦後、学生である手塚は戦時中に描き溜めた長編の中から『幽霊男』(『メトロポリス』の原型)と...</td>\n",
       "    </tr>\n",
       "    <tr>\n",
       "      <th>10</th>\n",
       "      <td>漫画家としてデビューする前の1945年頃、2代目桂春団治が地方での自主興行を行う際のポスター...</td>\n",
       "    </tr>\n",
       "    <tr>\n",
       "      <th>...</th>\n",
       "      <td>...</td>\n",
       "    </tr>\n",
       "    <tr>\n",
       "      <th>2806</th>\n",
       "      <td>アメリカ合衆国統計局によると、ヒューストン市の総面積は1,558.4km2である。そのうち1...</td>\n",
       "    </tr>\n",
       "    <tr>\n",
       "      <th>2809</th>\n",
       "      <td>バイユー・シティの別名が示す通り、ヒューストン市内にはバイユーと呼ばれる小川がいくつも流れて...</td>\n",
       "    </tr>\n",
       "    <tr>\n",
       "      <th>2811</th>\n",
       "      <td>ヒューストンの夏の日中の気温は摂氏30度を上回ることが常である。過去の統計の平均では、最高気...</td>\n",
       "    </tr>\n",
       "    <tr>\n",
       "      <th>2813</th>\n",
       "      <td>一方、ヒューストンの冬は温暖で、過ごしやすい日が続く。最寒月の1月においても、月平均気温は摂...</td>\n",
       "    </tr>\n",
       "    <tr>\n",
       "      <th>2817</th>\n",
       "      <td>1960年代、ダウンタウン・ヒューストンの建物はそのほとんどが中層オフィスビルであった。19...</td>\n",
       "    </tr>\n",
       "  </tbody>\n",
       "</table>\n",
       "<p>1000 rows × 1 columns</p>\n",
       "</div>"
      ],
      "text/plain": [
       "                                                   text\n",
       "0     手塚治虫(てづかおさむ、本名:手塚治(読み同じ)、1928年(昭和3年)11月3日-1989...\n",
       "2     大阪帝国大学附属医学専門部在学中の1946年1月1日に4コマ漫画『マアチャンの日記帳』(『少...\n",
       "6     1941年、大阪府立北野中学校(現在の大阪府立北野高等学校)に入学した。\\n時節柄軍事色が強...\n",
       "9     終戦後、学生である手塚は戦時中に描き溜めた長編の中から『幽霊男』(『メトロポリス』の原型)と...\n",
       "10    漫画家としてデビューする前の1945年頃、2代目桂春団治が地方での自主興行を行う際のポスター...\n",
       "...                                                 ...\n",
       "2806  アメリカ合衆国統計局によると、ヒューストン市の総面積は1,558.4km2である。そのうち1...\n",
       "2809  バイユー・シティの別名が示す通り、ヒューストン市内にはバイユーと呼ばれる小川がいくつも流れて...\n",
       "2811  ヒューストンの夏の日中の気温は摂氏30度を上回ることが常である。過去の統計の平均では、最高気...\n",
       "2813  一方、ヒューストンの冬は温暖で、過ごしやすい日が続く。最寒月の1月においても、月平均気温は摂...\n",
       "2817  1960年代、ダウンタウン・ヒューストンの建物はそのほとんどが中層オフィスビルであった。19...\n",
       "\n",
       "[1000 rows x 1 columns]"
      ]
     },
     "execution_count": 1,
     "metadata": {},
     "output_type": "execute_result"
    }
   ],
   "source": [
    "from datasets import load_dataset\n",
    "import pandas as pd\n",
    "\n",
    "ds = load_dataset(\"SkelterLabsInc/JaQuAD\")\n",
    "df_context = pd.DataFrame(\n",
    "    ds[\"train\"][\"context\"],\n",
    "    columns=[\"text\"]\n",
    ")\n",
    "df_context = df_context.drop_duplicates()\n",
    "df = df_context[:1000]\n",
    "df"
   ]
  },
  {
   "cell_type": "markdown",
   "metadata": {
    "slideshow": {
     "slide_type": "slide"
    }
   },
   "source": [
    "Embedding の前に、テキストの標準化 (ノーマライズ) をおこないます。今回は、各ドキュメントの改行を削除し、日本語 (マルチバイト) の空白を半角の空白にそろえます。"
   ]
  },
  {
   "cell_type": "code",
   "execution_count": 2,
   "metadata": {
    "slideshow": {
     "slide_type": "slide"
    }
   },
   "outputs": [
    {
     "name": "stderr",
     "output_type": "stream",
     "text": [
      "/tmp/ipykernel_8349/372861816.py:8: SettingWithCopyWarning: \n",
      "A value is trying to be set on a copy of a slice from a DataFrame.\n",
      "Try using .loc[row_indexer,col_indexer] = value instead\n",
      "\n",
      "See the caveats in the documentation: https://pandas.pydata.org/pandas-docs/stable/user_guide/indexing.html#returning-a-view-versus-a-copy\n",
      "  df[\"text\"] = remove_newlines(df.text)\n"
     ]
    },
    {
     "data": {
      "text/plain": [
       "'手塚治虫(てづかおさむ、本名:手塚治(読み同じ)、1928年(昭和3年)11月3日-1989年(平成元年)2月9日)は、日本の漫画家、アニメーター、アニメ監督である。 戦後日本においてストーリー漫画の第一人者として、漫画表現の開拓者的な存在として活躍した。 兵庫県宝塚市出身(出生は大阪府豊能郡豊中町、現在の豊中市)同市名誉市民である。 大阪帝国大学附属医学専門部を卒業。 医師免許取得のち医学博士(奈良県立医科大学・1961年)。'"
      ]
     },
     "execution_count": 2,
     "metadata": {},
     "output_type": "execute_result"
    }
   ],
   "source": [
    "def remove_newlines(serie):\n",
    "    serie = serie.str.replace(\"\\n\", \" \", regex=True)\n",
    "    serie = serie.str.replace(\"\\\\n\", \" \", regex=True)\n",
    "    serie = serie.str.replace(\"  \", \" \", regex=True)\n",
    "    serie = serie.str.replace(\"  \", \" \", regex=True)\n",
    "    return serie\n",
    "\n",
    "df[\"text\"] = remove_newlines(df.text)\n",
    "df[\"text\"][0]"
   ]
  },
  {
   "cell_type": "markdown",
   "metadata": {
    "slideshow": {
     "slide_type": "slide"
    }
   },
   "source": [
    "いったん、CSV ファイル (```document_data.csv```) に保存します"
   ]
  },
  {
   "cell_type": "code",
   "execution_count": 3,
   "metadata": {
    "slideshow": {
     "slide_type": "slide"
    }
   },
   "outputs": [
    {
     "data": {
      "text/html": [
       "<div>\n",
       "<style scoped>\n",
       "    .dataframe tbody tr th:only-of-type {\n",
       "        vertical-align: middle;\n",
       "    }\n",
       "\n",
       "    .dataframe tbody tr th {\n",
       "        vertical-align: top;\n",
       "    }\n",
       "\n",
       "    .dataframe thead th {\n",
       "        text-align: right;\n",
       "    }\n",
       "</style>\n",
       "<table border=\"1\" class=\"dataframe\">\n",
       "  <thead>\n",
       "    <tr style=\"text-align: right;\">\n",
       "      <th></th>\n",
       "      <th>text</th>\n",
       "    </tr>\n",
       "  </thead>\n",
       "  <tbody>\n",
       "    <tr>\n",
       "      <th>0</th>\n",
       "      <td>手塚治虫(てづかおさむ、本名:手塚治(読み同じ)、1928年(昭和3年)11月3日-1989...</td>\n",
       "    </tr>\n",
       "    <tr>\n",
       "      <th>2</th>\n",
       "      <td>大阪帝国大学附属医学専門部在学中の1946年1月1日に4コマ漫画『マアチャンの日記帳』(『少...</td>\n",
       "    </tr>\n",
       "    <tr>\n",
       "      <th>6</th>\n",
       "      <td>1941年、大阪府立北野中学校(現在の大阪府立北野高等学校)に入学した。 時節柄軍事色が強ま...</td>\n",
       "    </tr>\n",
       "    <tr>\n",
       "      <th>9</th>\n",
       "      <td>終戦後、学生である手塚は戦時中に描き溜めた長編の中から『幽霊男』(『メトロポリス』の原型)と...</td>\n",
       "    </tr>\n",
       "    <tr>\n",
       "      <th>10</th>\n",
       "      <td>漫画家としてデビューする前の1945年頃、2代目桂春団治が地方での自主興行を行う際のポスター...</td>\n",
       "    </tr>\n",
       "  </tbody>\n",
       "</table>\n",
       "</div>"
      ],
      "text/plain": [
       "                                                 text\n",
       "0   手塚治虫(てづかおさむ、本名:手塚治(読み同じ)、1928年(昭和3年)11月3日-1989...\n",
       "2   大阪帝国大学附属医学専門部在学中の1946年1月1日に4コマ漫画『マアチャンの日記帳』(『少...\n",
       "6   1941年、大阪府立北野中学校(現在の大阪府立北野高等学校)に入学した。 時節柄軍事色が強ま...\n",
       "9   終戦後、学生である手塚は戦時中に描き溜めた長編の中から『幽霊男』(『メトロポリス』の原型)と...\n",
       "10  漫画家としてデビューする前の1945年頃、2代目桂春団治が地方での自主興行を行う際のポスター..."
      ]
     },
     "execution_count": 3,
     "metadata": {},
     "output_type": "execute_result"
    }
   ],
   "source": [
    "df.to_csv(\"document_data.csv\")\n",
    "df.head()"
   ]
  },
  {
   "cell_type": "markdown",
   "metadata": {
    "slideshow": {
     "slide_type": "slide"
    }
   },
   "source": [
    "使用されている token 数 (OpenAI GPT で扱う token) の統計を表示します。"
   ]
  },
  {
   "cell_type": "code",
   "execution_count": 5,
   "metadata": {
    "slideshow": {
     "slide_type": "slide"
    }
   },
   "outputs": [
    {
     "data": {
      "text/plain": [
       "<Axes: >"
      ]
     },
     "execution_count": 5,
     "metadata": {},
     "output_type": "execute_result"
    },
    {
     "data": {
      "image/png": "[encoded data removed]",
      "text/plain": [
       "<Figure size 640x480 with 1 Axes>"
      ]
     },
     "metadata": {},
     "output_type": "display_data"
    }
   ],
   "source": [
    "import tiktoken\n",
    "\n",
    "# Load tokenizer\n",
    "tokenizer = tiktoken.get_encoding(\"gpt2\")\n",
    "#tokenizer = tiktoken.get_encoding(\"cl100k_base\")  # when it's ada-002 model\n",
    "\n",
    "df = pd.read_csv(\"document_data.csv\", index_col=0)\n",
    "df.columns = [\"text\"]\n",
    "\n",
    "# Tokenize the text and save the number of tokens to a new column\n",
    "df[\"n_tokens\"] = df.text.apply(lambda x: len(tokenizer.encode(x)))\n",
    "\n",
    "# Visualize the distribution of the number of tokens per row using a histogram\n",
    "df.n_tokens.hist()"
   ]
  },
  {
   "cell_type": "markdown",
   "metadata": {
    "slideshow": {
     "slide_type": "slide"
    }
   },
   "source": [
    "Azure OpenAI Service を使って 1000 件のテキストに Embedding を実行し、作成されたベクトル情報を CSV (```embeddings_data.csv```) に保存します"
   ]
  },
  {
   "cell_type": "code",
   "execution_count": 8,
   "metadata": {
    "slideshow": {
     "slide_type": "slide"
    }
   },
   "outputs": [
    {
     "data": {
      "text/html": [
       "<div>\n",
       "<style scoped>\n",
       "    .dataframe tbody tr th:only-of-type {\n",
       "        vertical-align: middle;\n",
       "    }\n",
       "\n",
       "    .dataframe tbody tr th {\n",
       "        vertical-align: top;\n",
       "    }\n",
       "\n",
       "    .dataframe thead th {\n",
       "        text-align: right;\n",
       "    }\n",
       "</style>\n",
       "<table border=\"1\" class=\"dataframe\">\n",
       "  <thead>\n",
       "    <tr style=\"text-align: right;\">\n",
       "      <th></th>\n",
       "      <th>text</th>\n",
       "      <th>n_tokens</th>\n",
       "      <th>embeddings</th>\n",
       "    </tr>\n",
       "  </thead>\n",
       "  <tbody>\n",
       "    <tr>\n",
       "      <th>0</th>\n",
       "      <td>手塚治虫(てづかおさむ、本名:手塚治(読み同じ)、1928年(昭和3年)11月3日-1989...</td>\n",
       "      <td>344</td>\n",
       "      <td>[0.012435195967555046, 0.011723257601261139, 0...</td>\n",
       "    </tr>\n",
       "    <tr>\n",
       "      <th>2</th>\n",
       "      <td>大阪帝国大学附属医学専門部在学中の1946年1月1日に4コマ漫画『マアチャンの日記帳』(『少...</td>\n",
       "      <td>681</td>\n",
       "      <td>[0.016540223732590675, 0.018336020410060883, 0...</td>\n",
       "    </tr>\n",
       "    <tr>\n",
       "      <th>6</th>\n",
       "      <td>1941年、大阪府立北野中学校(現在の大阪府立北野高等学校)に入学した。 時節柄軍事色が強ま...</td>\n",
       "      <td>1104</td>\n",
       "      <td>[0.0025560890790075064, 0.018375828862190247, ...</td>\n",
       "    </tr>\n",
       "    <tr>\n",
       "      <th>9</th>\n",
       "      <td>終戦後、学生である手塚は戦時中に描き溜めた長編の中から『幽霊男』(『メトロポリス』の原型)と...</td>\n",
       "      <td>669</td>\n",
       "      <td>[0.0005295498413033783, 0.02033103257417679, 0...</td>\n",
       "    </tr>\n",
       "    <tr>\n",
       "      <th>10</th>\n",
       "      <td>漫画家としてデビューする前の1945年頃、2代目桂春団治が地方での自主興行を行う際のポスター...</td>\n",
       "      <td>623</td>\n",
       "      <td>[0.016676150262355804, 0.027853423729538918, 0...</td>\n",
       "    </tr>\n",
       "  </tbody>\n",
       "</table>\n",
       "</div>"
      ],
      "text/plain": [
       "                                                 text  n_tokens  \\\n",
       "0   手塚治虫(てづかおさむ、本名:手塚治(読み同じ)、1928年(昭和3年)11月3日-1989...       344   \n",
       "2   大阪帝国大学附属医学専門部在学中の1946年1月1日に4コマ漫画『マアチャンの日記帳』(『少...       681   \n",
       "6   1941年、大阪府立北野中学校(現在の大阪府立北野高等学校)に入学した。 時節柄軍事色が強ま...      1104   \n",
       "9   終戦後、学生である手塚は戦時中に描き溜めた長編の中から『幽霊男』(『メトロポリス』の原型)と...       669   \n",
       "10  漫画家としてデビューする前の1945年頃、2代目桂春団治が地方での自主興行を行う際のポスター...       623   \n",
       "\n",
       "                                           embeddings  \n",
       "0   [0.012435195967555046, 0.011723257601261139, 0...  \n",
       "2   [0.016540223732590675, 0.018336020410060883, 0...  \n",
       "6   [0.0025560890790075064, 0.018375828862190247, ...  \n",
       "9   [0.0005295498413033783, 0.02033103257417679, 0...  \n",
       "10  [0.016676150262355804, 0.027853423729538918, 0...  "
      ]
     },
     "execution_count": 8,
     "metadata": {},
     "output_type": "execute_result"
    }
   ],
   "source": [
    "embedding_model = \"text-similarity-curie-001-deploy\"\n",
    "\n",
    "import os\n",
    "import time\n",
    "import openai\n",
    "\n",
    "openai.api_key = os.environ[\"OPENAI_API_KEY\"]\n",
    "openai.api_base =  os.environ[\"OPENAI_API_BASE\"]\n",
    "openai.api_type = os.environ[\"OPENAI_API_TYPE\"]\n",
    "openai.api_version = os.environ[\"OPENAI_API_VERSION\"]\n",
    "\n",
    "def embed(x):\n",
    "    time.sleep(0.3)\n",
    "    return openai.Embedding.create(\n",
    "        input=x,\n",
    "        engine=embedding_model)[\"data\"][0][\"embedding\"]\n",
    "\n",
    "df[\"embeddings\"] = df.text.apply(embed)\n",
    "df.to_csv(\"embeddings_data.csv\")\n",
    "df.head()"
   ]
  },
  {
   "cell_type": "markdown",
   "metadata": {
    "slideshow": {
     "slide_type": "slide"
    }
   },
   "source": [
    "今回、作成されたベクトルの次元数は、4096 次元です。"
   ]
  },
  {
   "cell_type": "code",
   "execution_count": 9,
   "metadata": {
    "slideshow": {
     "slide_type": "slide"
    }
   },
   "outputs": [
    {
     "data": {
      "text/plain": [
       "4096"
      ]
     },
     "execution_count": 9,
     "metadata": {},
     "output_type": "execute_result"
    }
   ],
   "source": [
    "len(df[\"embeddings\"][0])"
   ]
  }
 ],
 "metadata": {
  "celltoolbar": "Slideshow",
  "kernelspec": {
   "display_name": "Python 3 (ipykernel)",
   "language": "python",
   "name": "python3"
  },
  "language_info": {
   "codemirror_mode": {
    "name": "ipython",
    "version": 3
   },
   "file_extension": ".py",
   "mimetype": "text/x-python",
   "name": "python",
   "nbconvert_exporter": "python",
   "pygments_lexer": "ipython3",
   "version": "3.8.10"
  },
  "vscode": {
   "interpreter": {
    "hash": "05f34a34d73b71652304030c1097be3a5720ea2447153dd6542d145a26b73181"
   }
  }
 },
 "nbformat": 4,
 "nbformat_minor": 2
}
